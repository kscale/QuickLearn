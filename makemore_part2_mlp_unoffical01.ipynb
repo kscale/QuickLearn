{
  "cells": [
    {
      "cell_type": "markdown",
      "metadata": {
        "id": "view-in-github",
        "colab_type": "text"
      },
      "source": [
        "<a href=\"https://colab.research.google.com/github/kscale/QuickLearn/blob/master/makemore_part2_mlp_unoffical01.ipynb\" target=\"_parent\"><img src=\"https://colab.research.google.com/assets/colab-badge.svg\" alt=\"Open In Colab\"/></a>"
      ]
    },
    {
      "cell_type": "code",
      "execution_count": null,
      "metadata": {
        "id": "j-nS3Ne-ncPt"
      },
      "outputs": [],
      "source": [
        "import torch\n",
        "import torch.nn.functional as F\n",
        "import matplotlib.pyplot as plt # for making figures\n",
        "%matplotlib inline"
      ]
    },
    {
      "cell_type": "code",
      "source": [
        "! wget https://raw.githubusercontent.com/karpathy/makemore/master/names.txt"
      ],
      "metadata": {
        "id": "F9g0h-wBEBuc",
        "colab": {
          "base_uri": "https://localhost:8080/"
        },
        "outputId": "19083086-5658-4e79-ac70-d6b5c4d31ea8"
      },
      "execution_count": 24,
      "outputs": [
        {
          "output_type": "stream",
          "name": "stdout",
          "text": [
            "--2022-10-14 06:23:30--  https://raw.githubusercontent.com/karpathy/makemore/master/names.txt\n",
            "Resolving raw.githubusercontent.com (raw.githubusercontent.com)... 185.199.111.133, 185.199.109.133, 185.199.108.133, ...\n",
            "Connecting to raw.githubusercontent.com (raw.githubusercontent.com)|185.199.111.133|:443... connected.\n",
            "HTTP request sent, awaiting response... 200 OK\n",
            "Length: 228145 (223K) [text/plain]\n",
            "Saving to: ‘names.txt’\n",
            "\n",
            "\rnames.txt             0%[                    ]       0  --.-KB/s               \rnames.txt           100%[===================>] 222.80K  --.-KB/s    in 0.009s  \n",
            "\n",
            "2022-10-14 06:23:30 (23.5 MB/s) - ‘names.txt’ saved [228145/228145]\n",
            "\n"
          ]
        }
      ]
    },
    {
      "cell_type": "code",
      "execution_count": 26,
      "metadata": {
        "id": "PcPf6NeLncPy",
        "colab": {
          "base_uri": "https://localhost:8080/"
        },
        "outputId": "9318be15-2fde-41ed-8235-913647092515"
      },
      "outputs": [
        {
          "output_type": "execute_result",
          "data": {
            "text/plain": [
              "['emma', 'olivia', 'ava', 'isabella', 'sophia', 'charlotte', 'mia', 'amelia']"
            ]
          },
          "metadata": {},
          "execution_count": 26
        }
      ],
      "source": [
        "# read in all the words\n",
        "words = open('names.txt', 'r').read().splitlines()\n",
        "words[:8]"
      ]
    },
    {
      "cell_type": "code",
      "execution_count": null,
      "metadata": {
        "id": "PGXvh4m4ncPz",
        "colab": {
          "base_uri": "https://localhost:8080/"
        },
        "outputId": "68d466fa-9f00-4d6b-afe2-e9d4b65cda4d"
      },
      "outputs": [
        {
          "output_type": "execute_result",
          "data": {
            "text/plain": [
              "32033"
            ]
          },
          "metadata": {},
          "execution_count": 30
        }
      ],
      "source": [
        "len(words)"
      ]
    },
    {
      "cell_type": "code",
      "execution_count": 28,
      "metadata": {
        "id": "xgVErRfrncPz",
        "colab": {
          "base_uri": "https://localhost:8080/"
        },
        "outputId": "42b6689e-8ff5-4dd8-8e9b-2c9eb6b9a41d"
      },
      "outputs": [
        {
          "output_type": "stream",
          "name": "stdout",
          "text": [
            "{1: 'a', 2: 'b', 3: 'c', 4: 'd', 5: 'e', 6: 'f', 7: 'g', 8: 'h', 9: 'i', 10: 'j', 11: 'k', 12: 'l', 13: 'm', 14: 'n', 15: 'o', 16: 'p', 17: 'q', 18: 'r', 19: 's', 20: 't', 21: 'u', 22: 'v', 23: 'w', 24: 'x', 25: 'y', 26: 'z', 0: '.'}\n"
          ]
        }
      ],
      "source": [
        "# build the vocabulary of characters and mappings to/from integers\n",
        "chars = sorted(list(set(''.join(words))))\n",
        "stoi = {s:i+1 for i,s in enumerate(chars)}\n",
        "stoi['.'] = 0\n",
        "itos = {i:s for s,i in stoi.items()}\n",
        "print(itos)"
      ]
    },
    {
      "cell_type": "code",
      "execution_count": 32,
      "metadata": {
        "id": "CoMhuwzcncP0",
        "colab": {
          "base_uri": "https://localhost:8080/"
        },
        "outputId": "0b76d9ae-c2fc-464d-cd95-944caaa5177d"
      },
      "outputs": [
        {
          "output_type": "stream",
          "name": "stdout",
          "text": [
            "... ---> e\n",
            "..e ---> m\n",
            ".em ---> m\n",
            "emm ---> a\n",
            "mma ---> .\n",
            "... ---> o\n",
            "..o ---> l\n",
            ".ol ---> i\n",
            "oli ---> v\n",
            "liv ---> i\n",
            "ivi ---> a\n",
            "via ---> .\n",
            "... ---> a\n",
            "..a ---> v\n",
            ".av ---> a\n",
            "ava ---> .\n",
            "... ---> i\n",
            "..i ---> s\n",
            ".is ---> a\n",
            "isa ---> b\n",
            "sab ---> e\n",
            "abe ---> l\n",
            "bel ---> l\n",
            "ell ---> a\n",
            "lla ---> .\n",
            "... ---> s\n",
            "..s ---> o\n",
            ".so ---> p\n",
            "sop ---> h\n",
            "oph ---> i\n",
            "phi ---> a\n",
            "hia ---> .\n"
          ]
        }
      ],
      "source": [
        "# build the dataset\n",
        "\n",
        "block_size = 3 # context length: how many characters do we take to predict the next one?\n",
        "X, Y = [], []\n",
        "for w in words[:5]:\n",
        "  \n",
        "  #print(w)\n",
        "  context = [0] * block_size\n",
        "  for ch in w + '.':\n",
        "    ix = stoi[ch]\n",
        "    X.append(context)\n",
        "    Y.append(ix)\n",
        "    print(''.join(itos[i] for i in context), '--->', itos[ix])\n",
        "    context = context[1:] + [ix] # crop and append\n",
        "  \n",
        "X = torch.tensor(X)\n",
        "Y = torch.tensor(Y)"
      ]
    },
    {
      "cell_type": "code",
      "execution_count": 33,
      "metadata": {
        "id": "Zh3gmRh7ncP1",
        "colab": {
          "base_uri": "https://localhost:8080/"
        },
        "outputId": "12001132-0bcd-4b27-d3fc-af6068cba527"
      },
      "outputs": [
        {
          "output_type": "execute_result",
          "data": {
            "text/plain": [
              "(torch.Size([32, 3]), torch.int64, torch.Size([32]), torch.int64)"
            ]
          },
          "metadata": {},
          "execution_count": 33
        }
      ],
      "source": [
        "X.shape, X.dtype, Y.shape, Y.dtype"
      ]
    },
    {
      "cell_type": "code",
      "execution_count": 34,
      "metadata": {
        "id": "Xuvf6hO2ncP3"
      },
      "outputs": [],
      "source": [
        "# C = torch.randn((27, 2))  #将27个字符嵌入到2维空间中\n",
        "C = torch.randn((27,2))"
      ]
    },
    {
      "cell_type": "code",
      "source": [
        "C"
      ],
      "metadata": {
        "colab": {
          "base_uri": "https://localhost:8080/"
        },
        "id": "eZ8J6dFJB2aK",
        "outputId": "77bf9d94-2c14-4446-c186-52f7425946a4"
      },
      "execution_count": 36,
      "outputs": [
        {
          "output_type": "execute_result",
          "data": {
            "text/plain": [
              "tensor([[-2.3262, -1.1028],\n",
              "        [ 1.0982,  0.7169],\n",
              "        [ 1.1732, -0.4150],\n",
              "        [-0.5143,  0.9377],\n",
              "        [ 1.0497, -1.3157],\n",
              "        [-0.8922, -0.8525],\n",
              "        [-0.3742, -0.7513],\n",
              "        [-0.5534,  1.1095],\n",
              "        [ 0.2132, -0.1377],\n",
              "        [-0.4482,  0.1132],\n",
              "        [ 1.0370,  0.6264],\n",
              "        [ 0.1370, -1.2306],\n",
              "        [-0.0703, -0.4997],\n",
              "        [ 0.6661,  1.3109],\n",
              "        [-1.4107, -1.7128],\n",
              "        [-0.5947, -1.5274],\n",
              "        [ 2.6262, -0.8022],\n",
              "        [-1.7372,  0.1541],\n",
              "        [ 1.0633, -1.7652],\n",
              "        [ 0.8245,  0.5270],\n",
              "        [ 0.4596, -1.7106],\n",
              "        [ 0.6021,  0.0695],\n",
              "        [ 0.5943, -1.1664],\n",
              "        [ 0.2331,  1.4745],\n",
              "        [ 0.4811, -0.4941],\n",
              "        [ 0.3977,  0.5767],\n",
              "        [ 0.6259, -0.6556]])"
            ]
          },
          "metadata": {},
          "execution_count": 36
        }
      ]
    },
    {
      "cell_type": "code",
      "source": [
        "#索引\n",
        "C[5]  #5号字符放的位置 #itos[5] --->e  ??如何根据值查找得到索引"
      ],
      "metadata": {
        "colab": {
          "base_uri": "https://localhost:8080/"
        },
        "id": "cdk-FgXfDLIa",
        "outputId": "db8a499d-4860-4a67-a477-fff8da19b288"
      },
      "execution_count": null,
      "outputs": [
        {
          "output_type": "execute_result",
          "data": {
            "text/plain": [
              "tensor([0.1136, 2.5688])"
            ]
          },
          "metadata": {},
          "execution_count": 20
        }
      ]
    },
    {
      "cell_type": "code",
      "source": [
        "#X[3] #tensor([ 5, 13, 13])\n",
        "#5所表示的字符在C中索引的位置\n",
        "#C[3]\n",
        "C[[5, 13, 13]]   #即emm 在空间中的表示"
      ],
      "metadata": {
        "colab": {
          "base_uri": "https://localhost:8080/"
        },
        "id": "wTxxfUp_tkuJ",
        "outputId": "21e1568e-12aa-42ae-a0bd-5f16c58d600e"
      },
      "execution_count": 71,
      "outputs": [
        {
          "output_type": "execute_result",
          "data": {
            "text/plain": [
              "tensor([[-0.8922, -0.8525],\n",
              "        [ 0.6661,  1.3109],\n",
              "        [ 0.6661,  1.3109]])"
            ]
          },
          "metadata": {},
          "execution_count": 71
        }
      ]
    },
    {
      "cell_type": "code",
      "source": [
        "Y.shape"
      ],
      "metadata": {
        "id": "rwd5Hn6RDzcW",
        "colab": {
          "base_uri": "https://localhost:8080/"
        },
        "outputId": "8b031163-ed16-4d51-e5ab-2f52d6a94272"
      },
      "execution_count": 59,
      "outputs": [
        {
          "output_type": "execute_result",
          "data": {
            "text/plain": [
              "torch.Size([32])"
            ]
          },
          "metadata": {},
          "execution_count": 59
        }
      ]
    },
    {
      "cell_type": "code",
      "execution_count": 62,
      "metadata": {
        "id": "qJh4eTBPncP4",
        "colab": {
          "base_uri": "https://localhost:8080/"
        },
        "outputId": "8dfcbd43-4b5e-40e6-e476-394ee2df5ddc"
      },
      "outputs": [
        {
          "output_type": "execute_result",
          "data": {
            "text/plain": [
              "torch.Size([32, 3, 2])"
            ]
          },
          "metadata": {},
          "execution_count": 62
        }
      ],
      "source": [
        "emb = C[X]\n",
        "emb.shape\n",
        "#emb"
      ]
    },
    {
      "cell_type": "markdown",
      "source": [
        "把某一次中的一个输入 emm ,block_size=3\n",
        "3个字符，每个字符在二维空间中的表示，即3*2=6，所以在这一个输入里，w=6\n",
        "\n",
        "```\n",
        "\n",
        "tensor([[-0.8922, -0.8525],\n",
        "    [ 0.6661,  1.3109],\n",
        "    [ 0.6661,  1.3109]]) \n",
        "\n",
        "```\n",
        "---->\n",
        "\n"
      ],
      "metadata": {
        "id": "SGE-nSCPDnUF"
      }
    },
    {
      "cell_type": "code",
      "execution_count": 38,
      "metadata": {
        "id": "JcmKznzAncP5"
      },
      "outputs": [],
      "source": [
        "W1 = torch.randn((6, 100))  #为什么是6, 一次传入3个字符，2维空间 3*2，实际每次输入了6个参数\n",
        "b1 = torch.randn(100)"
      ]
    },
    {
      "cell_type": "code",
      "execution_count": 39,
      "metadata": {
        "id": "qLV3FA_ZncP5"
      },
      "outputs": [],
      "source": [
        "h = torch.tanh(emb.view(-1, 6) @ W1 + b1)   #将第一层的输出结果放到激活函数中  x*w+b"
      ]
    },
    {
      "cell_type": "code",
      "execution_count": 40,
      "metadata": {
        "id": "ryfxyThuncP6",
        "colab": {
          "base_uri": "https://localhost:8080/"
        },
        "outputId": "f047b4e6-3d36-4202-f0d3-b2d3ad29a05e"
      },
      "outputs": [
        {
          "output_type": "execute_result",
          "data": {
            "text/plain": [
              "tensor([[ 1.0000, -0.9999,  0.3605,  ...,  0.3594,  1.0000, -0.9999],\n",
              "        [ 1.0000, -0.9886,  0.9592,  ...,  0.9073,  0.9999, -0.9945],\n",
              "        [ 0.3034,  0.8659,  0.5509,  ...,  0.9993, -0.7621, -0.1902],\n",
              "        ...,\n",
              "        [ 0.9239, -0.9990, -0.9999,  ...,  0.9999,  0.1563, -0.9810],\n",
              "        [ 0.3496,  0.8003, -0.8885,  ..., -0.8529, -0.4737, -0.9994],\n",
              "        [-0.9848,  0.9988,  0.7337,  ...,  0.4196, -0.9914,  0.2657]])"
            ]
          },
          "metadata": {},
          "execution_count": 40
        }
      ],
      "source": [
        "h"
      ]
    },
    {
      "cell_type": "code",
      "execution_count": 41,
      "metadata": {
        "id": "0LXBfoR9ncP6",
        "colab": {
          "base_uri": "https://localhost:8080/"
        },
        "outputId": "eb25ed21-14cb-49be-d05a-85e9df6e5e51"
      },
      "outputs": [
        {
          "output_type": "execute_result",
          "data": {
            "text/plain": [
              "torch.Size([32, 100])"
            ]
          },
          "metadata": {},
          "execution_count": 41
        }
      ],
      "source": [
        "h.shape"
      ]
    },
    {
      "cell_type": "code",
      "execution_count": 42,
      "metadata": {
        "id": "9ZEkTiBTncP6"
      },
      "outputs": [],
      "source": [
        "W2 = torch.randn((100, 27))\n",
        "b2 = torch.randn(27)"
      ]
    },
    {
      "cell_type": "code",
      "execution_count": 43,
      "metadata": {
        "id": "NcPdGmBIncP7"
      },
      "outputs": [],
      "source": [
        "logits = h @ W2 + b2"
      ]
    },
    {
      "cell_type": "code",
      "execution_count": 44,
      "metadata": {
        "id": "L7vZqDbzncP7",
        "colab": {
          "base_uri": "https://localhost:8080/"
        },
        "outputId": "7498b60d-02bc-4943-eddf-b2fa27a02d73"
      },
      "outputs": [
        {
          "output_type": "execute_result",
          "data": {
            "text/plain": [
              "torch.Size([32, 27])"
            ]
          },
          "metadata": {},
          "execution_count": 44
        }
      ],
      "source": [
        "logits.shape"
      ]
    },
    {
      "cell_type": "code",
      "execution_count": 45,
      "metadata": {
        "id": "_Yc20fuKncP7"
      },
      "outputs": [],
      "source": [
        "counts = logits.exp()\n",
        "prob = counts / counts.sum(1, keepdims=True)"
      ]
    },
    {
      "cell_type": "code",
      "execution_count": 46,
      "metadata": {
        "id": "FQ-_zB1pncP8",
        "colab": {
          "base_uri": "https://localhost:8080/"
        },
        "outputId": "024694b8-9943-4681-d36e-e479fdb04eb1"
      },
      "outputs": [
        {
          "output_type": "execute_result",
          "data": {
            "text/plain": [
              "torch.Size([32, 27])"
            ]
          },
          "metadata": {},
          "execution_count": 46
        }
      ],
      "source": [
        "prob.shape"
      ]
    },
    {
      "cell_type": "code",
      "source": [
        "prob[torch.arange(32),Y]  #用了迭代\n"
      ],
      "metadata": {
        "colab": {
          "base_uri": "https://localhost:8080/"
        },
        "id": "lsoeh8n-ODJi",
        "outputId": "0b33b1c4-c015-40aa-f9f8-0153c94ac7bc"
      },
      "execution_count": 60,
      "outputs": [
        {
          "output_type": "execute_result",
          "data": {
            "text/plain": [
              "tensor([1.0477e-16, 4.6469e-08, 1.4714e-10, 3.8296e-09, 3.0641e-09, 1.2001e-14,\n",
              "        1.2487e-08, 4.1728e-10, 2.4290e-04, 1.2532e-09, 4.3890e-08, 1.0816e-08,\n",
              "        5.8885e-08, 2.3810e-06, 8.7863e-13, 6.0830e-10, 4.7910e-10, 9.0093e-01,\n",
              "        1.0983e-12, 6.0453e-11, 2.7012e-05, 1.2914e-13, 8.6581e-04, 2.1459e-09,\n",
              "        2.2082e-07, 5.2687e-08, 4.8161e-12, 5.4566e-08, 8.4353e-16, 1.1757e-14,\n",
              "        1.7531e-10, 6.1576e-08])"
            ]
          },
          "metadata": {},
          "execution_count": 60
        }
      ]
    },
    {
      "cell_type": "code",
      "execution_count": 61,
      "metadata": {
        "id": "Kte-rDaYncP8",
        "colab": {
          "base_uri": "https://localhost:8080/"
        },
        "outputId": "e56c719c-ea78-4cb3-d280-79aec1fcb871"
      },
      "outputs": [
        {
          "output_type": "execute_result",
          "data": {
            "text/plain": [
              "tensor(20.3247)"
            ]
          },
          "metadata": {},
          "execution_count": 61
        }
      ],
      "source": [
        "loss = -prob[torch.arange(32), Y].log().mean()\n",
        "loss"
      ]
    }
  ],
  "metadata": {
    "kernelspec": {
      "display_name": "Python 3",
      "language": "python",
      "name": "python3"
    },
    "language_info": {
      "codemirror_mode": {
        "name": "ipython",
        "version": 3
      },
      "file_extension": ".py",
      "mimetype": "text/x-python",
      "name": "python",
      "nbconvert_exporter": "python",
      "pygments_lexer": "ipython3",
      "version": "3.8.5"
    },
    "colab": {
      "provenance": [],
      "collapsed_sections": [],
      "include_colab_link": true
    }
  },
  "nbformat": 4,
  "nbformat_minor": 0
}